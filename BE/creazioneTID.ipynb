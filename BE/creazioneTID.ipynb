{
 "cells": [
  {
   "cell_type": "markdown",
   "id": "638bef7f-f11e-400d-81e8-234d3ad68241",
   "metadata": {},
   "source": [
    "# abbinamento plugin e cve\n",
    "- cve -> caricamento full cve da full_cve.csv\n",
    "- QID -> indicizzazione da cve a id qualys \n",
    "- NID -> indicizzazione da cve a id nessus\n",
    "- creazione TID"
   ]
  },
  {
   "cell_type": "code",
   "execution_count": 13,
   "id": "1156f98b-7319-4d99-aec6-a578bf1c1400",
   "metadata": {},
   "outputs": [],
   "source": [
    "import pandas as pd\n",
    "import re\n",
    "from tqdm import tqdm\n",
    "\n",
    "nessus_xlsx = \"data/nessus-kb.xlsx\"\n",
    "qualys_xlsx = \"data/qualys-kb.xlsx\"\n",
    "allcve_xlsx = \"data/all_cve.xlsx\"\n",
    "dictionary_xlsx = \"data/dictionary.xlsx\"\n",
    "df_nessus = pd.read_excel(nessus_xlsx)\n",
    "df_qualys = pd.read_excel(qualys_xlsx)\n",
    "df_cve = pd.read_excel(allcve_xlsx)\n",
    "df_dictionary = pd.read_excel(dictionary_xlsx)\n",
    "\n",
    "nessus_values = []\n",
    "qualys_values = []\n",
    "cve_values = []\n",
    "dictionary_values=[]"
   ]
  },
  {
   "cell_type": "markdown",
   "id": "663db454-4d16-42ba-b142-5cffbb83e08c",
   "metadata": {},
   "source": [
    "controllo che doc_id public_display e script_id di Nessus siano dati identici"
   ]
  },
  {
   "cell_type": "code",
   "execution_count": 12,
   "id": "a2657679-aa9f-4ca5-becd-66d418d613d6",
   "metadata": {},
   "outputs": [
    {
     "name": "stderr",
     "output_type": "stream",
     "text": [
      "Processing nessus: 100%|██████████| 1104/1104 [00:00<00:00, 635186.78it/s]00:00\n",
      "Processing nessus: 100%|██████████| 1104/1104 [00:00<00:00, 1068661.81it/s]00:00\n",
      "Processing nessus: 100%|██████████| 1104/1104 [00:00<00:00, 864708.05it/s]00:00\n"
     ]
    }
   ],
   "source": [
    "nessus1 =[]\n",
    "nessus2 =[]\n",
    "nessus3 =[]\n",
    "\n",
    "with tqdm(total=len(df_nessus['doc_id']), desc=\"Processing nessus\", bar_format=\"{l_bar}{bar:10}{r_bar}{remaining}\") as bar:\n",
    "    for row in df_nessus['doc_id']:\n",
    "        nessus1.append(row)\n",
    "        bar.update(1)\n",
    "with tqdm(total=len(df_nessus['public_display']), desc=\"Processing nessus\", bar_format=\"{l_bar}{bar:10}{r_bar}{remaining}\") as bar:\n",
    "    for row in df_nessus['public_display']:\n",
    "        nessus2.append(row)\n",
    "        bar.update(1)\n",
    "with tqdm(total=len(df_nessus['script_id']), desc=\"Processing nessus\", bar_format=\"{l_bar}{bar:10}{r_bar}{remaining}\") as bar:\n",
    "    for row in df_nessus['script_id']:\n",
    "        nessus3.append(row)\n",
    "        bar.update(1)\n",
    "\n",
    "\n",
    "df_dictionary = pd.DataFrame({'doc_id': nessus1,'public_display': nessus2,'script_id': nessus3})\n",
    "\n",
    "df_dictionary.to_excel(dictionary_xlsx, index=False)"
   ]
  },
  {
   "cell_type": "markdown",
   "id": "bef8a50a-b638-44f8-b9fa-38dec661b31a",
   "metadata": {},
   "source": [
    "le 3 colonne sono identiche"
   ]
  },
  {
   "cell_type": "code",
   "execution_count": 17,
   "id": "2ad4c7c0-7d2f-4885-a539-a0444f187ad3",
   "metadata": {},
   "outputs": [
    {
     "name": "stderr",
     "output_type": "stream",
     "text": [
      "Processing nessus:   0%|          | 0/346521 [00:00<?, ?it/s]?\n",
      "Processing nessus:   0%|          | 0/99317 [00:00<?, ?it/s]?\u001b[A\n",
      "Processing nessus:   0%|          | 1/346521 [00:00<2:43:29, 35.33it/s]2:43:29\n"
     ]
    },
    {
     "ename": "KeyError",
     "evalue": "'CVE ID'",
     "output_type": "error",
     "traceback": [
      "\u001b[0;31m---------------------------------------------------------------------------\u001b[0m",
      "\u001b[0;31mKeyError\u001b[0m                                  Traceback (most recent call last)",
      "File \u001b[0;32m~/.local/lib/python3.8/site-packages/pandas/core/indexes/base.py:3621\u001b[0m, in \u001b[0;36mIndex.get_loc\u001b[0;34m(self, key, method, tolerance)\u001b[0m\n\u001b[1;32m   3620\u001b[0m \u001b[38;5;28;01mtry\u001b[39;00m:\n\u001b[0;32m-> 3621\u001b[0m     \u001b[38;5;28;01mreturn\u001b[39;00m \u001b[38;5;28;43mself\u001b[39;49m\u001b[38;5;241;43m.\u001b[39;49m\u001b[43m_engine\u001b[49m\u001b[38;5;241;43m.\u001b[39;49m\u001b[43mget_loc\u001b[49m\u001b[43m(\u001b[49m\u001b[43mcasted_key\u001b[49m\u001b[43m)\u001b[49m\n\u001b[1;32m   3622\u001b[0m \u001b[38;5;28;01mexcept\u001b[39;00m \u001b[38;5;167;01mKeyError\u001b[39;00m \u001b[38;5;28;01mas\u001b[39;00m err:\n",
      "File \u001b[0;32m~/.local/lib/python3.8/site-packages/pandas/_libs/index.pyx:136\u001b[0m, in \u001b[0;36mpandas._libs.index.IndexEngine.get_loc\u001b[0;34m()\u001b[0m\n",
      "File \u001b[0;32m~/.local/lib/python3.8/site-packages/pandas/_libs/index.pyx:163\u001b[0m, in \u001b[0;36mpandas._libs.index.IndexEngine.get_loc\u001b[0;34m()\u001b[0m\n",
      "File \u001b[0;32mpandas/_libs/hashtable_class_helper.pxi:5198\u001b[0m, in \u001b[0;36mpandas._libs.hashtable.PyObjectHashTable.get_item\u001b[0;34m()\u001b[0m\n",
      "File \u001b[0;32mpandas/_libs/hashtable_class_helper.pxi:5206\u001b[0m, in \u001b[0;36mpandas._libs.hashtable.PyObjectHashTable.get_item\u001b[0;34m()\u001b[0m\n",
      "\u001b[0;31mKeyError\u001b[0m: 'CVE ID'",
      "\nThe above exception was the direct cause of the following exception:\n",
      "\u001b[0;31mKeyError\u001b[0m                                  Traceback (most recent call last)",
      "Cell \u001b[0;32mIn[17], line 13\u001b[0m\n\u001b[1;32m     11\u001b[0m \u001b[38;5;66;03m#colonna 2 qualys \u001b[39;00m\n\u001b[1;32m     12\u001b[0m \u001b[38;5;28;01mwith\u001b[39;00m tqdm(total\u001b[38;5;241m=\u001b[39m\u001b[38;5;28mlen\u001b[39m(df_qualys[\u001b[38;5;124m'\u001b[39m\u001b[38;5;124mCVE ID\u001b[39m\u001b[38;5;124m'\u001b[39m]), desc\u001b[38;5;241m=\u001b[39m\u001b[38;5;124m\"\u001b[39m\u001b[38;5;124mProcessing nessus\u001b[39m\u001b[38;5;124m\"\u001b[39m, bar_format\u001b[38;5;241m=\u001b[39m\u001b[38;5;124m\"\u001b[39m\u001b[38;5;132;01m{l_bar}\u001b[39;00m\u001b[38;5;132;01m{bar:10}\u001b[39;00m\u001b[38;5;132;01m{r_bar}\u001b[39;00m\u001b[38;5;132;01m{remaining}\u001b[39;00m\u001b[38;5;124m\"\u001b[39m) \u001b[38;5;28;01mas\u001b[39;00m bar2:\n\u001b[0;32m---> 13\u001b[0m     \u001b[38;5;28;01mfor\u001b[39;00m qid \u001b[38;5;129;01min\u001b[39;00m \u001b[43mdf_nessus\u001b[49m\u001b[43m[\u001b[49m\u001b[38;5;124;43m'\u001b[39;49m\u001b[38;5;124;43mCVE ID\u001b[39;49m\u001b[38;5;124;43m'\u001b[39;49m\u001b[43m]\u001b[49m:\n\u001b[1;32m     14\u001b[0m         \u001b[38;5;28;01mif\u001b[39;00m qid \u001b[38;5;241m==\u001b[39m cve:\n\u001b[1;32m     15\u001b[0m             dictionary_values[cve]\u001b[38;5;241m.\u001b[39madd(qid)\n",
      "File \u001b[0;32m~/.local/lib/python3.8/site-packages/pandas/core/frame.py:3505\u001b[0m, in \u001b[0;36mDataFrame.__getitem__\u001b[0;34m(self, key)\u001b[0m\n\u001b[1;32m   3503\u001b[0m \u001b[38;5;28;01mif\u001b[39;00m \u001b[38;5;28mself\u001b[39m\u001b[38;5;241m.\u001b[39mcolumns\u001b[38;5;241m.\u001b[39mnlevels \u001b[38;5;241m>\u001b[39m \u001b[38;5;241m1\u001b[39m:\n\u001b[1;32m   3504\u001b[0m     \u001b[38;5;28;01mreturn\u001b[39;00m \u001b[38;5;28mself\u001b[39m\u001b[38;5;241m.\u001b[39m_getitem_multilevel(key)\n\u001b[0;32m-> 3505\u001b[0m indexer \u001b[38;5;241m=\u001b[39m \u001b[38;5;28;43mself\u001b[39;49m\u001b[38;5;241;43m.\u001b[39;49m\u001b[43mcolumns\u001b[49m\u001b[38;5;241;43m.\u001b[39;49m\u001b[43mget_loc\u001b[49m\u001b[43m(\u001b[49m\u001b[43mkey\u001b[49m\u001b[43m)\u001b[49m\n\u001b[1;32m   3506\u001b[0m \u001b[38;5;28;01mif\u001b[39;00m is_integer(indexer):\n\u001b[1;32m   3507\u001b[0m     indexer \u001b[38;5;241m=\u001b[39m [indexer]\n",
      "File \u001b[0;32m~/.local/lib/python3.8/site-packages/pandas/core/indexes/base.py:3623\u001b[0m, in \u001b[0;36mIndex.get_loc\u001b[0;34m(self, key, method, tolerance)\u001b[0m\n\u001b[1;32m   3621\u001b[0m     \u001b[38;5;28;01mreturn\u001b[39;00m \u001b[38;5;28mself\u001b[39m\u001b[38;5;241m.\u001b[39m_engine\u001b[38;5;241m.\u001b[39mget_loc(casted_key)\n\u001b[1;32m   3622\u001b[0m \u001b[38;5;28;01mexcept\u001b[39;00m \u001b[38;5;167;01mKeyError\u001b[39;00m \u001b[38;5;28;01mas\u001b[39;00m err:\n\u001b[0;32m-> 3623\u001b[0m     \u001b[38;5;28;01mraise\u001b[39;00m \u001b[38;5;167;01mKeyError\u001b[39;00m(key) \u001b[38;5;28;01mfrom\u001b[39;00m \u001b[38;5;21;01merr\u001b[39;00m\n\u001b[1;32m   3624\u001b[0m \u001b[38;5;28;01mexcept\u001b[39;00m \u001b[38;5;167;01mTypeError\u001b[39;00m:\n\u001b[1;32m   3625\u001b[0m     \u001b[38;5;66;03m# If we have a listlike key, _check_indexing_error will raise\u001b[39;00m\n\u001b[1;32m   3626\u001b[0m     \u001b[38;5;66;03m#  InvalidIndexError. Otherwise we fall through and re-raise\u001b[39;00m\n\u001b[1;32m   3627\u001b[0m     \u001b[38;5;66;03m#  the TypeError.\u001b[39;00m\n\u001b[1;32m   3628\u001b[0m     \u001b[38;5;28mself\u001b[39m\u001b[38;5;241m.\u001b[39m_check_indexing_error(key)\n",
      "\u001b[0;31mKeyError\u001b[0m: 'CVE ID'"
     ]
    }
   ],
   "source": [
    "cve =[]\n",
    "qid =[]\n",
    "nid =[]\n",
    "dictionary_values =[]\n",
    "\n",
    "#colonna 1 cve\n",
    "with tqdm(total=len(df_cve['CVE']), desc=\"Processing CVE\", bar_format=\"{l_bar}{bar:10}{r_bar}{remaining}\") as bar:\n",
    "    for cve in df_cve['CVE']:\n",
    "        dictionary_values.append(row)\n",
    "        bar.update(1)\n",
    "        #colonna 2 qualys \n",
    "        with tqdm(total=len(df_qualys['CVE ID']), desc=\"Processing Qualys\", bar_format=\"{l_bar}{bar:10}{r_bar}{remaining}\") as bar2:\n",
    "            for qid in df_qualys['CVE ID']:\n",
    "                if qid == cve:\n",
    "                    dictionary_values[cve].add(qid)\n",
    "                bar2.update(1)\n",
    "\"\"\"                \n",
    "with tqdm(total=len(df_nessus['public_display']), desc=\"Processing nessus\", bar_format=\"{l_bar}{bar:10}{r_bar}{remaining}\") as bar:\n",
    "    for row in df_nessus['public_display']:\n",
    "        nid.append(row)\n",
    "        bar.update(1)\n",
    "\n",
    "\"\"\"\n",
    "\n",
    "df_dictionary = pd.DataFrame(dictionary_values)\n",
    "\n",
    "df_dictionary.to_excel(dictionary_xlsx, index=False)"
   ]
  }
 ],
 "metadata": {
  "kernelspec": {
   "display_name": "Python 3 (ipykernel)",
   "language": "python",
   "name": "python3"
  },
  "language_info": {
   "codemirror_mode": {
    "name": "ipython",
    "version": 3
   },
   "file_extension": ".py",
   "mimetype": "text/x-python",
   "name": "python",
   "nbconvert_exporter": "python",
   "pygments_lexer": "ipython3",
   "version": "3.8.10"
  }
 },
 "nbformat": 4,
 "nbformat_minor": 5
}
