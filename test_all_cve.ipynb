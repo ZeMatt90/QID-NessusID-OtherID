{
 "cells": [
  {
   "cell_type": "markdown",
   "id": "48f1d972-40c3-45c3-931c-7a22b12534c2",
   "metadata": {},
   "source": [
    "testo le cve nessus"
   ]
  },
  {
   "cell_type": "code",
   "execution_count": 35,
   "id": "cab6ef02-60d5-4f52-8ef3-7877cefd2356",
   "metadata": {},
   "outputs": [],
   "source": [
    "import pandas as pd\n",
    "import re\n",
    "from tqdm import tqdm\n",
    "from colorama import Fore, Back, Style, init\n",
    "\n",
    "nessus_xlsx = \"data/nessus-kb.xlsx\"\n",
    "qualys_xlsx = \"data/qualys-light.xlsx\"\n",
    "allcve_xlsx = \"data/all_cve.xlsx\"\n",
    "\n",
    "df_nessus = pd.read_excel(nessus_xlsx)\n",
    "df_qualys = pd.read_excel(qualys_xlsx)\n",
    "nessus_values = []\n",
    "qualys_values = []        "
   ]
  },
  {
   "cell_type": "code",
   "execution_count": 36,
   "id": "4d4148cf-d5b9-4241-8f31-c12a227ce2d8",
   "metadata": {},
   "outputs": [
    {
     "name": "stderr",
     "output_type": "stream",
     "text": [
      "Processing nessus: |                         | 3270/? [00:00<00:00, 255435.88it/s]00:00\n"
     ]
    }
   ],
   "source": [
    "with tqdm(total=len(df_nessus['cves']), desc=\"Processing nessus\", bar_format=\"{l_bar}{bar:25}{r_bar}{remaining}\") as bar:\n",
    "    for row in df_nessus['cves']:\n",
    "        cve_list = re.findall(r\"'(.*?)'\", row)\n",
    "        for match in cve_list:                                                                                                                                                                                                                                                                                                                                                                                                                                                                                                                                                                                                                                                                                                                                                                                                                                                                                                                                                                                                                                                                                                                                                                                                                                                                                                                                                                                                                                                                                                                                                                                                                                                                                                                                                                                                                                                                                                                                                                                                                                                                                                                                                                                                                                                                                                                                                                                                                                                                                                                                                                                                                                                                                                                                                                                                                                                                                                                                                                                                                                                                                                                                                                                                                                                                                                                                                                                                                                                                                                                                                                                                                                                                                                                                                                                                                                                                                                                                                                                                                                                                                                            \n",
    "            if match and match != \"''\":\n",
    "                nessus_values.append(match)\n",
    "                bar.update(1)"
   ]
  },
  {
   "cell_type": "code",
   "execution_count": 29,
   "id": "87e4236a-a27b-4ad6-87ca-04ea9c52d1b7",
   "metadata": {},
   "outputs": [
    {
     "name": "stderr",
     "output_type": "stream",
     "text": [
      "Processing qualys: 100%|█████████████████████████| 5/5 [00:00<00:00, 15296.51it/s]00:00\n"
     ]
    }
   ],
   "source": [
    "with tqdm(total=len(df_qualys['CVE ID']), desc=\"Processing qualys\", bar_format=\"{l_bar}{bar:25}{r_bar}{remaining}\") as bar:\n",
    "    for row in df_qualys['CVE ID']:\n",
    "        #if row and not pd.isna(row) and row != 0:   \n",
    "        #    qualys_values.extend(row.split(','))    #estraggo le cve dalle righe non considerando i valori nan o 0\n",
    "        if isinstance(row, str) :\n",
    "            qualys_values.extend(row.split(','))\n",
    "        bar.update(1)"
   ]
  },
  {
   "cell_type": "code",
   "execution_count": 30,
   "id": "ce05a3ab-b70d-4fe6-ab5a-2f39e1457260",
   "metadata": {},
   "outputs": [
    {
     "name": "stdout",
     "output_type": "stream",
     "text": [
      "             CVE\n",
      "1  CVE-2022-3786\n",
      "3  CVE-2022-3786\n",
      "5  CVE-2022-3786\n",
      "7  CVE-2022-3786\n",
      "9  CVE-2022-3786\n",
      "0  CVE-2022-3602\n",
      "2  CVE-2022-3602\n",
      "4  CVE-2022-3602\n",
      "6  CVE-2022-3602\n",
      "8  CVE-2022-3602\n"
     ]
    }
   ],
   "source": [
    "df_nessus_values = pd.DataFrame({'CVE': nessus_values})\n",
    "df_qualys_values = pd.DataFrame({'CVE': qualys_values})\n",
    "\n",
    "merged_df = pd.concat([df_qualys_values, df_nessus_values], ignore_index=True)\n",
    "merged_df = merged_df.sort_values(by='CVE',ascending=False)\n",
    "#merged_df = merged_df.drop_duplicates(subset='CVE')\n",
    "\n",
    "print(merged_df)"
   ]
  }
 ],
 "metadata": {
  "kernelspec": {
   "display_name": "Python 3 (ipykernel)",
   "language": "python",
   "name": "python3"
  },
  "language_info": {
   "codemirror_mode": {
    "name": "ipython",
    "version": 3
   },
   "file_extension": ".py",
   "mimetype": "text/x-python",
   "name": "python",
   "nbconvert_exporter": "python",
   "pygments_lexer": "ipython3",
   "version": "3.8.10"
  }
 },
 "nbformat": 4,
 "nbformat_minor": 5
}
